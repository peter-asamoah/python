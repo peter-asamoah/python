{
 "cells": [
  {
   "cell_type": "markdown",
   "id": "a104a581",
   "metadata": {},
   "source": [
    "Intro"
   ]
  },
  {
   "cell_type": "code",
   "execution_count": 32,
   "id": "50525fda",
   "metadata": {},
   "outputs": [
    {
     "name": "stdout",
     "output_type": "stream",
     "text": [
      "range(0, 1000)\n"
     ]
    }
   ],
   "source": [
    "myArray = range(1000)\n",
    "print(myArray)"
   ]
  },
  {
   "cell_type": "code",
   "execution_count": 7,
   "id": "106f6a0a",
   "metadata": {},
   "outputs": [],
   "source": [
    "list1 = [ i**2 for i in myArray]"
   ]
  },
  {
   "cell_type": "code",
   "execution_count": 31,
   "id": "02d2d619",
   "metadata": {},
   "outputs": [
    {
     "name": "stdout",
     "output_type": "stream",
     "text": [
      "0.18900639999992563\n"
     ]
    }
   ],
   "source": [
    "import timeit\n",
    "print(timeit.timeit(setup='myArray = range(1000)', stmt='[x ** 2 for x in myArray]', number=1000))"
   ]
  },
  {
   "cell_type": "code",
   "execution_count": 42,
   "id": "c43109d3",
   "metadata": {},
   "outputs": [
    {
     "name": "stdout",
     "output_type": "stream",
     "text": [
      "2.27 ms ± 51.4 µs per loop (mean ± std. dev. of 7 runs, 100 loops each)\n"
     ]
    }
   ],
   "source": [
    "import numpy as np\n",
    "otherArray = np.arange(1000)\n",
    "%timeit [otherArray ** 2 for x in otherArray]\n",
    "# print(timeit.timeit(setup='otherArray = np.arange(1000)', stmt='[otherArray ** 2]', number=1000))"
   ]
  },
  {
   "cell_type": "code",
   "execution_count": null,
   "id": "18b7544a",
   "metadata": {},
   "outputs": [],
   "source": []
  },
  {
   "cell_type": "code",
   "execution_count": 52,
   "id": "95a81853",
   "metadata": {},
   "outputs": [
    {
     "name": "stdout",
     "output_type": "stream",
     "text": [
      "[['2017-01-03' '115.800003' '116.330002' ... '116.150002' '113.013916'\n",
      "  '28781900']\n",
      " ['2017-01-04' '115.849998' '116.510002' ... '116.019997' '112.887413'\n",
      "  '21118100']\n",
      " ['2017-01-05' '115.919998' '116.860001' ... '116.610001' '113.461502'\n",
      "  '22193600']\n",
      " ...\n",
      " ['2017-12-27' '170.100006' '170.779999' ... '170.600006' '168.663101'\n",
      "  '21498200']\n",
      " ['2017-12-28' '171.000000' '171.850006' ... '171.080002' '169.137650'\n",
      "  '16480200']\n",
      " ['2017-12-29' '170.520004' '170.589996' ... '169.229996' '167.308640'\n",
      "  '25884400']]\n"
     ]
    }
   ],
   "source": [
    "\n",
    "import numpy as np\n",
    "import csv\n",
    "\n",
    "with open('AAPL-2017.csv', newline='') as f:\n",
    "    reader = csv.DictReader(f)\n",
    "    people = np.empty((0,7))\n",
    "    for row in reader:\n",
    "        oneRow = np.array([[row['Date'], row['Open'],row['High'], row['Low'],row['Close'], row['Adj Close'],row['Volume']]])\n",
    "        people = np.append(people,oneRow,axis=0)\n",
    "\n",
    "print(people)"
   ]
  },
  {
   "cell_type": "code",
   "execution_count": 53,
   "id": "bd7936ca",
   "metadata": {},
   "outputs": [
    {
     "data": {
      "text/plain": [
       "2"
      ]
     },
     "execution_count": 53,
     "metadata": {},
     "output_type": "execute_result"
    }
   ],
   "source": [
    "np.ndim(oneRow)"
   ]
  },
  {
   "cell_type": "code",
   "execution_count": 54,
   "id": "31d21a2a",
   "metadata": {},
   "outputs": [
    {
     "data": {
      "text/plain": [
       "(1, 7)"
      ]
     },
     "execution_count": 54,
     "metadata": {},
     "output_type": "execute_result"
    }
   ],
   "source": [
    "oneRow.shape"
   ]
  },
  {
   "cell_type": "code",
   "execution_count": 56,
   "id": "8b4ab783",
   "metadata": {},
   "outputs": [
    {
     "name": "stdout",
     "output_type": "stream",
     "text": [
      "[ 0  1  2  3  4  5  6  7  8  9 10]\n"
     ]
    }
   ],
   "source": [
    "a5 = np.arange(0.5, 5.8, 0.5, int)\n",
    "\n",
    "print(a5) "
   ]
  },
  {
   "cell_type": "markdown",
   "id": "e9f3a454",
   "metadata": {},
   "source": [
    "operations on arrays"
   ]
  },
  {
   "cell_type": "code",
   "execution_count": null,
   "id": "4b5e02be",
   "metadata": {},
   "outputs": [],
   "source": [
    "np.savetxt('new.txt',)"
   ]
  }
 ],
 "metadata": {
  "kernelspec": {
   "display_name": "Python 3",
   "language": "python",
   "name": "python3"
  },
  "language_info": {
   "codemirror_mode": {
    "name": "ipython",
    "version": 3
   },
   "file_extension": ".py",
   "mimetype": "text/x-python",
   "name": "python",
   "nbconvert_exporter": "python",
   "pygments_lexer": "ipython3",
   "version": "3.8.8"
  }
 },
 "nbformat": 4,
 "nbformat_minor": 5
}
