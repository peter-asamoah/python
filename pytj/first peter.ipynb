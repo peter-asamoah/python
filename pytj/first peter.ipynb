{
 "cells": [
  {
   "cell_type": "code",
   "execution_count": 11,
   "id": "b85d871e",
   "metadata": {},
   "outputs": [
    {
     "name": "stdout",
     "output_type": "stream",
     "text": [
      "hello hello hello hello hello \n"
     ]
    }
   ],
   "source": [
    "f= 'hello '\n",
    "print(f*5)"
   ]
  },
  {
   "cell_type": "code",
   "execution_count": 1,
   "id": "500c3b6f",
   "metadata": {},
   "outputs": [
    {
     "name": "stdout",
     "output_type": "stream",
     "text": [
      "hello\n"
     ]
    }
   ],
   "source": [
    "print (\"hello\")"
   ]
  },
  {
   "cell_type": "code",
   "execution_count": 3,
   "id": "0f5b79f8",
   "metadata": {},
   "outputs": [
    {
     "name": "stdout",
     "output_type": "stream",
     "text": [
      "greater than 7\n"
     ]
    }
   ],
   "source": [
    "x=30\n",
    "if x>7:\n",
    "    print(\"greater than 7\")"
   ]
  },
  {
   "cell_type": "code",
   "execution_count": 9,
   "id": "021bfc3b",
   "metadata": {},
   "outputs": [
    {
     "name": "stdout",
     "output_type": "stream",
     "text": [
      "enter a random number23\n",
      "<class 'int'>\n",
      "8\n"
     ]
    }
   ],
   "source": [
    "num = int(input(\"enter a random number\"))\n",
    "print(type(num))\n",
    "print(num%15)"
   ]
  },
  {
   "cell_type": "code",
   "execution_count": 32,
   "id": "8336cd6a",
   "metadata": {},
   "outputs": [
    {
     "name": "stdout",
     "output_type": "stream",
     "text": [
      "wow woowwii eiiei\n"
     ]
    }
   ],
   "source": [
    "m= 'wow '\n",
    "p= 'woowwii'\n",
    "print(m+p+\" eiiei\")"
   ]
  },
  {
   "cell_type": "code",
   "execution_count": 15,
   "id": "8b4a53ef",
   "metadata": {},
   "outputs": [
    {
     "data": {
      "text/plain": [
       "'o'"
      ]
     },
     "execution_count": 15,
     "metadata": {},
     "output_type": "execute_result"
    }
   ],
   "source": [
    "p[3]"
   ]
  },
  {
   "cell_type": "code",
   "execution_count": 16,
   "id": "8384e790",
   "metadata": {},
   "outputs": [
    {
     "data": {
      "text/plain": [
       "6"
      ]
     },
     "execution_count": 16,
     "metadata": {},
     "output_type": "execute_result"
    }
   ],
   "source": [
    "p.index('i')"
   ]
  },
  {
   "cell_type": "code",
   "execution_count": 17,
   "id": "cc144780",
   "metadata": {},
   "outputs": [],
   "source": [
    "len?"
   ]
  },
  {
   "cell_type": "code",
   "execution_count": 19,
   "id": "b7ce74bd",
   "metadata": {},
   "outputs": [
    {
     "data": {
      "text/plain": [
       "2"
      ]
     },
     "execution_count": 19,
     "metadata": {},
     "output_type": "execute_result"
    }
   ],
   "source": [
    "p.count('i')"
   ]
  },
  {
   "cell_type": "code",
   "execution_count": 20,
   "id": "5aa5d302",
   "metadata": {},
   "outputs": [
    {
     "name": "stdout",
     "output_type": "stream",
     "text": [
      "Help on built-in function len in module builtins:\n",
      "\n",
      "len(obj, /)\n",
      "    Return the number of items in a container.\n",
      "\n"
     ]
    }
   ],
   "source": [
    "help(len)"
   ]
  },
  {
   "cell_type": "code",
   "execution_count": 24,
   "id": "7c102e09",
   "metadata": {},
   "outputs": [
    {
     "data": {
      "text/plain": [
       "False"
      ]
     },
     "execution_count": 24,
     "metadata": {},
     "output_type": "execute_result"
    }
   ],
   "source": [
    "p.upper().startswith('Hello ')"
   ]
  },
  {
   "cell_type": "code",
   "execution_count": 33,
   "id": "1fed34b3",
   "metadata": {},
   "outputs": [
    {
     "data": {
      "text/plain": [
       "True"
      ]
     },
     "execution_count": 33,
     "metadata": {},
     "output_type": "execute_result"
    }
   ],
   "source": [
    "p.startswith('woo')"
   ]
  },
  {
   "cell_type": "code",
   "execution_count": 50,
   "id": "1011be48",
   "metadata": {},
   "outputs": [],
   "source": [
    "\n",
    "list2 = [[2,5,8,6],2,2.33,6.55,'peter']"
   ]
  },
  {
   "cell_type": "code",
   "execution_count": 44,
   "id": "4a991eab",
   "metadata": {},
   "outputs": [
    {
     "data": {
      "text/plain": [
       "6.55"
      ]
     },
     "execution_count": 44,
     "metadata": {},
     "output_type": "execute_result"
    }
   ],
   "source": [
    "list2[2]"
   ]
  },
  {
   "cell_type": "code",
   "execution_count": 57,
   "id": "dbed54f2",
   "metadata": {},
   "outputs": [
    {
     "data": {
      "text/plain": [
       "'e'"
      ]
     },
     "execution_count": 57,
     "metadata": {},
     "output_type": "execute_result"
    }
   ],
   "source": [
    "              "
   ]
  },
  {
   "cell_type": "code",
   "execution_count": null,
   "id": "4dab8905",
   "metadata": {},
   "outputs": [],
   "source": []
  }
 ],
 "metadata": {
  "kernelspec": {
   "display_name": "Python 3",
   "language": "python",
   "name": "python3"
  },
  "language_info": {
   "codemirror_mode": {
    "name": "ipython",
    "version": 3
   },
   "file_extension": ".py",
   "mimetype": "text/x-python",
   "name": "python",
   "nbconvert_exporter": "python",
   "pygments_lexer": "ipython3",
   "version": "3.8.8"
  }
 },
 "nbformat": 4,
 "nbformat_minor": 5
}
