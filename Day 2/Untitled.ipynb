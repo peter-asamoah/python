{
 "cells": [
  {
   "cell_type": "code",
   "execution_count": 1,
   "id": "42bcfa78",
   "metadata": {},
   "outputs": [
    {
     "name": "stdout",
     "output_type": "stream",
     "text": [
      "hello world\n"
     ]
    }
   ],
   "source": [
    "print(\"hello world\")"
   ]
  },
  {
   "cell_type": "code",
   "execution_count": 2,
   "id": "e7914352",
   "metadata": {},
   "outputs": [
    {
     "name": "stdout",
     "output_type": "stream",
     "text": [
      "Hello Peter\n"
     ]
    }
   ],
   "source": [
    "world = 'Peter'\n",
    "print(\"Hello \"+world)"
   ]
  },
  {
   "cell_type": "code",
   "execution_count": 8,
   "id": "0ff62005",
   "metadata": {},
   "outputs": [
    {
     "name": "stdout",
     "output_type": "stream",
     "text": [
      "enter a number = 26\n",
      "number is even\n"
     ]
    }
   ],
   "source": [
    "number = int(input('enter a number = '))\n",
    "if number%2==0:\n",
    "    print(\"number is even\")\n",
    "else:\n",
    "    print(\"number is odd\")\n"
   ]
  },
  {
   "cell_type": "code",
   "execution_count": 28,
   "id": "69022786",
   "metadata": {},
   "outputs": [
    {
     "name": "stdout",
     "output_type": "stream",
     "text": [
      "Peter \n",
      " 15\n"
     ]
    }
   ],
   "source": [
    "name= 'Peter'\n",
    "age = 15\n",
    "print( name,'\\n',age)"
   ]
  },
  {
   "cell_type": "code",
   "execution_count": 22,
   "id": "6eb5677c",
   "metadata": {},
   "outputs": [
    {
     "name": "stdout",
     "output_type": "stream",
     "text": [
      "Peter15\n"
     ]
    }
   ],
   "source": [
    "c= name + str(age)\n",
    "print(c)"
   ]
  },
  {
   "cell_type": "code",
   "execution_count": 31,
   "id": "efabfb98",
   "metadata": {},
   "outputs": [
    {
     "name": "stdout",
     "output_type": "stream",
     "text": [
      "guess a number12\n",
      "Random number is 69  sorry try again\n"
     ]
    }
   ],
   "source": [
    "import random\n",
    "guess = int(input('guess a number'))\n",
    "newrand = random.randint(0, 100)\n",
    "if guess == newrand:\n",
    "\n",
    "    print(\"Random number is\",newrand, \" correct guess\")\n",
    "else:\n",
    "    print(\"Random number is\",newrand, \" sorry try again\")\n"
   ]
  },
  {
   "cell_type": "code",
   "execution_count": 49,
   "id": "3c7f0fb9",
   "metadata": {},
   "outputs": [
    {
     "name": "stdout",
     "output_type": "stream",
     "text": [
      "4  is even\n",
      "16  is even\n"
     ]
    }
   ],
   "source": [
    "\n",
    "list2 = [1, 4, 9, 16, 25]\n",
    "for i in list2:\n",
    "    if i%2==0:\n",
    "        print (i, \" is even\")\n",
    "    else:\n",
    "        continue\n"
   ]
  },
  {
   "cell_type": "code",
   "execution_count": 68,
   "id": "632503c5",
   "metadata": {},
   "outputs": [
    {
     "name": "stdout",
     "output_type": "stream",
     "text": [
      "enter an age 24\n",
      "325  years \n",
      "\n",
      "Months =  3900     Days=  118625   Hours =  2847000\n"
     ]
    }
   ],
   "source": [
    "age = 0\n",
    "total= 0\n",
    "entry = int(input(\"enter an age \"))\n",
    "while age<=entry:\n",
    "   \n",
    "    age+=1\n",
    "   \n",
    "    total+=age\n",
    "    \n",
    "print(total, \" years\",\"\\n\")\n",
    "months = total*12\n",
    "days = total*365\n",
    "hours= 8760* total\n",
    "print(\"Months = \",months, \"    Days= \", days, \"  Hours = \", hours)"
   ]
  },
  {
   "cell_type": "code",
   "execution_count": 69,
   "id": "a0901718",
   "metadata": {},
   "outputs": [
    {
     "name": "stdout",
     "output_type": "stream",
     "text": [
      "enter a number = 26\n",
      "number is even\n"
     ]
    }
   ],
   "source": [
    "number = int(input('enter a number = '))\n",
    "if number%2==0:\n",
    "    print(\"number is even\")\n",
    "else:\n",
    "    print(\"number is odd\")"
   ]
  },
  {
   "cell_type": "code",
   "execution_count": 74,
   "id": "2f356514",
   "metadata": {},
   "outputs": [
    {
     "name": "stdout",
     "output_type": "stream",
     "text": [
      "<class 'int'>\n",
      "<class 'int'>\n",
      "<class 'str'>\n",
      "<class 'complex'>\n",
      "<class 'tuple'>\n",
      "<class 'list'>\n",
      "<class 'NoneType'>\n"
     ]
    }
   ],
   "source": [
    "x=5\n",
    "y=5000*5000000\n",
    "z='j'\n",
    "m=1j\n",
    "n=(1,)\n",
    "f=[1]\n",
    "j=None\n",
    "\n",
    "print(type(x))\n",
    "print(type(y))\n",
    "print(type(z))\n",
    "print(type(m))\n",
    "print(type(n))\n",
    "print(type(f))\n",
    "print(type(j))"
   ]
  },
  {
   "cell_type": "code",
   "execution_count": 83,
   "id": "eab141bd",
   "metadata": {},
   "outputs": [
    {
     "name": "stdout",
     "output_type": "stream",
     "text": [
      "10\n",
      "30\n",
      "60\n",
      "100\n",
      "105\n",
      "111\n",
      "118\n",
      "126\n"
     ]
    }
   ],
   "source": [
    "#Tutorials\n",
    "data = [10,20,30,40,5,6,7,8]\n",
    "sum = 0\n",
    "for i in data:\n",
    "    sum += i\n",
    "    print(sum)\n",
    "    "
   ]
  },
  {
   "cell_type": "code",
   "execution_count": 84,
   "id": "11241779",
   "metadata": {},
   "outputs": [
    {
     "name": "stdout",
     "output_type": "stream",
     "text": [
      "b is the minimu\n"
     ]
    }
   ],
   "source": [
    "#Tutorials\n",
    "a =100\n",
    "b=15\n",
    "if a<b:\n",
    "    print(\"A is the minimum\")\n",
    "else:\n",
    "    print(\"b is the minimum\")"
   ]
  },
  {
   "cell_type": "code",
   "execution_count": 85,
   "id": "27eeed0e",
   "metadata": {},
   "outputs": [
    {
     "name": "stdout",
     "output_type": "stream",
     "text": [
      "c is the minimum\n"
     ]
    }
   ],
   "source": [
    "#Tutorials\n",
    "a= 300\n",
    "b=550\n",
    "c=137\n",
    "\n",
    "if a<b and a<c:\n",
    "    print(\"a is the minimum \")\n",
    "elif b<a and b<c:\n",
    "    print(\"b is the minimu\")\n",
    "elif c<a and c<b:\n",
    "    print (\"c is the minimum\")\n",
    "else:\n",
    "    print(\"oops\")"
   ]
  },
  {
   "cell_type": "code",
   "execution_count": 126,
   "id": "d4ed8afb",
   "metadata": {},
   "outputs": [
    {
     "name": "stdout",
     "output_type": "stream",
     "text": [
      "9\n",
      "9\n",
      "9\n",
      "9\n",
      "9\n",
      "9\n",
      "9\n",
      "9\n",
      "9\n",
      "9\n",
      "9\n",
      "9\n",
      "9\n",
      "9\n",
      "9\n",
      "9\n",
      "9\n",
      "9\n",
      "1\n",
      "300\n"
     ]
    }
   ],
   "source": [
    "#\n",
    "A = [ 1, 3, 5, 7, 9, 11, 295, 297, 299, 300, 298, 296, 12, 10, 8, 6, 4, 2 ]\n",
    "max = A[0]\n",
    "min = A[0]\n",
    "length = len(A)\n",
    "\n",
    "for i in range(length):\n",
    "    if A[i]< min:\n",
    "        A[i]=min\n",
    "    if A[i]> max:\n",
    "        max=A[i]\n",
    "        \n",
    "print(min)\n",
    "print(max)\n",
    "            \n"
   ]
  },
  {
   "cell_type": "code",
   "execution_count": 134,
   "id": "26e4f9e4",
   "metadata": {},
   "outputs": [],
   "source": [
    "# Assignment\n",
    "# o a kak ushakov lil vo kashu kakao\n",
    "# Count Vowels and Consonants."
   ]
  },
  {
   "cell_type": "code",
   "execution_count": 161,
   "id": "7542c24e",
   "metadata": {},
   "outputs": [
    {
     "name": "stdout",
     "output_type": "stream",
     "text": [
      "0\n",
      "1\n",
      "1\n",
      "2\n",
      "3\n",
      "5\n",
      "8\n",
      "13\n",
      "21\n",
      "34\n",
      "55\n",
      "89\n",
      "144\n",
      "233\n",
      "377\n",
      "610\n",
      "987\n",
      "1597\n",
      "2584\n",
      "4181\n"
     ]
    }
   ],
   "source": [
    "num = [0, 1, 1, 2]\n",
    "\n",
    "for i in range(20):\n",
    "    if num[i] == 0 or num[i] == 1:\n",
    "        print(num[i])\n",
    "        continue\n",
    "    else:\n",
    "        print(num[i])\n",
    "        number = num[i] + num[i - 1]\n",
    "        num.append(number)\n",
    "    \n"
   ]
  },
  {
   "cell_type": "code",
   "execution_count": 172,
   "id": "1dede675",
   "metadata": {},
   "outputs": [
    {
     "name": "stdout",
     "output_type": "stream",
     "text": [
      "n\n"
     ]
    }
   ],
   "source": [
    "name= 'peterturkson'\n",
    "print(name[-1:])\n"
   ]
  },
  {
   "cell_type": "code",
   "execution_count": null,
   "id": "819dad98",
   "metadata": {},
   "outputs": [],
   "source": []
  }
 ],
 "metadata": {
  "kernelspec": {
   "display_name": "Python 3",
   "language": "python",
   "name": "python3"
  },
  "language_info": {
   "codemirror_mode": {
    "name": "ipython",
    "version": 3
   },
   "file_extension": ".py",
   "mimetype": "text/x-python",
   "name": "python",
   "nbconvert_exporter": "python",
   "pygments_lexer": "ipython3",
   "version": "3.8.8"
  }
 },
 "nbformat": 4,
 "nbformat_minor": 5
}
